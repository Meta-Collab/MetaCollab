{
 "cells": [
  {
   "cell_type": "code",
   "execution_count": 7,
   "id": "99d4ef07-c494-4ae1-99ff-c972680f259f",
   "metadata": {},
   "outputs": [],
   "source": [
    "#dataset download path - https://www.kaggle.com/datasets/omkarmanohardalvi/lungs-disease-dataset-4-types\n",
    "# extract it somewhere"
   ]
  },
  {
   "cell_type": "code",
   "execution_count": 3,
   "id": "fbca2cbc-988e-4648-86e5-24a2f2bc6251",
   "metadata": {},
   "outputs": [],
   "source": [
    "import os"
   ]
  },
  {
   "cell_type": "code",
   "execution_count": null,
   "id": "f70c1a44-1266-4f8c-81e0-cca2083c42b1",
   "metadata": {},
   "outputs": [],
   "source": [
    "import os\n",
    "import shutil\n",
    "import random\n",
    "\n",
    "train_folder = 'train' #extracted folder\n",
    "test_folder = 'test'\n",
    "\n",
    "#output path\n",
    "train_part1 = 'C:\\\\Users\\\\Acer\\\\OneDrive\\\\Desktop\\\\hack36-7.0\\\\datasets\\\\ds_client1\\\\train'\n",
    "train_part2 = 'C:\\\\Users\\\\Acer\\\\OneDrive\\\\Desktop\\\\hack36-7.0\\\\datasets\\\\ds_client2\\\\train'\n",
    "train_part3 = 'C:\\\\Users\\\\Acer\\\\OneDrive\\\\Desktop\\\\hack36-7.0\\\\datasets\\\\ds_server\\\\train'\n",
    "\n",
    "test_part1 = 'C:\\\\Users\\\\Acer\\\\OneDrive\\\\Desktop\\\\hack36-7.0\\\\datasets\\\\ds_client1\\\\test'\n",
    "test_part2 = 'C:\\\\Users\\\\Acer\\\\OneDrive\\\\Desktop\\\\hack36-7.0\\\\datasets\\\\ds_client2\\\\test'\n",
    "test_part3 = 'C:\\\\Users\\\\Acer\\\\OneDrive\\\\Desktop\\\\hack36-7.0\\\\datasets\\\\ds_server\\\\test'"
   ]
  },
  {
   "cell_type": "code",
   "execution_count": null,
   "id": "b98bfda9-4979-4752-9ebb-32768dbe527a",
   "metadata": {},
   "outputs": [],
   "source": [
    "for folder in [train_part1, train_part2, train_part3, test_part1, test_part2, test_part3]:\n",
    "    if not os.path.exists(folder):\n",
    "        os.makedirs(folder)"
   ]
  },
  {
   "cell_type": "code",
   "execution_count": null,
   "id": "f06ec84e-6b41-4211-926d-503f79487ad4",
   "metadata": {},
   "outputs": [],
   "source": [
    "def split_images(input_folder, output_folders):\n",
    "    for root, dirs, files in os.walk(input_folder):\n",
    "        for filename in files:\n",
    "            if filename.endswith('.jpg'): \n",
    "                input_path = os.path.join(root, filename)\n",
    "                output_folder = random.choice(output_folders)\n",
    "                output_path = os.path.join(output_folder, filename)\n",
    "                shutil.copy(input_path, output_path)\n",
    "        "
   ]
  },
  {
   "cell_type": "code",
   "execution_count": null,
   "id": "c8d3a26b-1bde-42c9-a932-0d059d80ee96",
   "metadata": {},
   "outputs": [],
   "source": [
    "split_images(train_folder, [train_part1, train_part2, train_part3])\n",
    "split_images(test_folder, [test_part1, test_part2, test_part3])"
   ]
  },
  {
   "cell_type": "code",
   "execution_count": null,
   "id": "32a0a300-07b0-457e-8cd1-ef507f285135",
   "metadata": {},
   "outputs": [],
   "source": []
  }
 ],
 "metadata": {
  "kernelspec": {
   "display_name": "Python 3 (ipykernel)",
   "language": "python",
   "name": "python3"
  },
  "language_info": {
   "codemirror_mode": {
    "name": "ipython",
    "version": 3
   },
   "file_extension": ".py",
   "mimetype": "text/x-python",
   "name": "python",
   "nbconvert_exporter": "python",
   "pygments_lexer": "ipython3",
   "version": "3.11.8"
  }
 },
 "nbformat": 4,
 "nbformat_minor": 5
}
